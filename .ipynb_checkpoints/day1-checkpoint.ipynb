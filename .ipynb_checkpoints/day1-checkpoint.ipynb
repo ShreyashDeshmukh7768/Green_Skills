{
 "cells": [
  {
   "cell_type": "code",
   "execution_count": 1,
   "id": "551f14f4-5602-4aae-a94f-99db137d0a2c",
   "metadata": {},
   "outputs": [
    {
     "name": "stdout",
     "output_type": "stream",
     "text": [
      "['mango', 'apple', 'banana']\n"
     ]
    }
   ],
   "source": [
    "fruits=[\"mango\", \"apple\",\"banana\"]\n",
    "print(fruits)"
   ]
  },
  {
   "cell_type": "code",
   "execution_count": 2,
   "id": "7ee9f50c-9160-498f-b10c-2cd78caf5575",
   "metadata": {},
   "outputs": [
    {
     "name": "stdout",
     "output_type": "stream",
     "text": [
      "['mango', 'apple', 'banana']\n"
     ]
    }
   ],
   "source": [
    "print(fruits)"
   ]
  },
  {
   "cell_type": "code",
   "execution_count": 3,
   "id": "c9011e1b-7175-4834-8f4d-1b7544706a90",
   "metadata": {},
   "outputs": [
    {
     "name": "stdout",
     "output_type": "stream",
     "text": [
      "('yamaha', 99, 'hello')\n"
     ]
    }
   ],
   "source": [
    "my_tuple=(\"yamaha\",99,'hello')\n",
    "print(my_tuple)"
   ]
  },
  {
   "cell_type": "code",
   "execution_count": 4,
   "id": "ac07b671-b39a-4d1e-b219-01a84cebffd9",
   "metadata": {},
   "outputs": [
    {
     "name": "stdout",
     "output_type": "stream",
     "text": [
      "['mango', 'apple', 'banana']\n"
     ]
    }
   ],
   "source": [
    "print(fruits)"
   ]
  },
  {
   "cell_type": "code",
   "execution_count": 5,
   "id": "d178b0d2-8f5e-4043-8877-2459584e6810",
   "metadata": {},
   "outputs": [
    {
     "data": {
      "text/plain": [
       "['mango', 'apple', 'banana']"
      ]
     },
     "execution_count": 5,
     "metadata": {},
     "output_type": "execute_result"
    }
   ],
   "source": [
    "fruits"
   ]
  },
  {
   "cell_type": "code",
   "execution_count": 6,
   "id": "45e9cf51-0170-447c-bdfb-ff79d0e17636",
   "metadata": {},
   "outputs": [],
   "source": [
    "my_dict={\"name\":\"mercedes\",\"color\":\"black\", \"model\":\"latest\", \"year\":2025}"
   ]
  },
  {
   "cell_type": "code",
   "execution_count": 7,
   "id": "5201c51c-1e04-4066-b371-82ec5e272226",
   "metadata": {},
   "outputs": [
    {
     "data": {
      "text/plain": [
       "{'name': 'mercedes', 'color': 'black', 'model': 'latest', 'year': 2025}"
      ]
     },
     "execution_count": 7,
     "metadata": {},
     "output_type": "execute_result"
    }
   ],
   "source": [
    "my_dict"
   ]
  },
  {
   "cell_type": "code",
   "execution_count": 8,
   "id": "08d92789-b7eb-4d04-8d8b-81f696940ec6",
   "metadata": {},
   "outputs": [
    {
     "name": "stdout",
     "output_type": "stream",
     "text": [
      "black\n"
     ]
    }
   ],
   "source": [
    "print(my_dict[\"color\"])"
   ]
  },
  {
   "cell_type": "code",
   "execution_count": 9,
   "id": "50714193-476f-458d-afef-5d936a044c8a",
   "metadata": {},
   "outputs": [
    {
     "name": "stdout",
     "output_type": "stream",
     "text": [
      "name\n",
      "color\n",
      "model\n",
      "year\n"
     ]
    }
   ],
   "source": [
    "for keys in my_dict.keys():\n",
    "    print(keys)"
   ]
  },
  {
   "cell_type": "code",
   "execution_count": 10,
   "id": "3c365a5c-06aa-43fa-a701-0141118f372d",
   "metadata": {},
   "outputs": [
    {
     "name": "stdout",
     "output_type": "stream",
     "text": [
      "mercedes\n",
      "black\n",
      "latest\n",
      "2025\n"
     ]
    }
   ],
   "source": [
    "for value in my_dict.values():\n",
    "    print(value)"
   ]
  },
  {
   "cell_type": "code",
   "execution_count": 11,
   "id": "9431b1bc-d1e6-4a6a-8693-e4184d7f3ec1",
   "metadata": {},
   "outputs": [],
   "source": [
    "my_set={1,2,3}"
   ]
  },
  {
   "cell_type": "code",
   "execution_count": 12,
   "id": "a0a3e9b4-b7a1-45a8-a05a-e70374191f7c",
   "metadata": {},
   "outputs": [
    {
     "name": "stdout",
     "output_type": "stream",
     "text": [
      "0\n",
      "2\n",
      "4\n",
      "6\n",
      "8\n",
      "10\n",
      "12\n",
      "14\n",
      "16\n",
      "18\n",
      "20\n",
      "22\n",
      "24\n",
      "26\n",
      "28\n",
      "30\n",
      "32\n",
      "34\n",
      "36\n",
      "38\n",
      "40\n",
      "42\n",
      "44\n",
      "46\n",
      "48\n",
      "50\n"
     ]
    }
   ],
   "source": [
    "def func():\n",
    "    i=0\n",
    "    for i in range(51):\n",
    "        if i%2==0:\n",
    "            print(i)\n",
    "func()"
   ]
  },
  {
   "cell_type": "code",
   "execution_count": 13,
   "id": "608a34c5-523b-4853-a27e-ddd1fb116789",
   "metadata": {},
   "outputs": [
    {
     "name": "stdout",
     "output_type": "stream",
     "text": [
      "p\n"
     ]
    }
   ],
   "source": [
    "var=[\"a\",\"e\",\"p\"]\n",
    "var\n",
    "def func():\n",
    "    for i in range(len(var)):  \n",
    "        if var[i].lower() not in ('a','e','i','o','u'):\n",
    "            print(var[i])      \n",
    "func()\n",
    "        \n",
    "    "
   ]
  },
  {
   "cell_type": "code",
   "execution_count": 14,
   "id": "7fa0a4c8-5537-4c88-8eeb-cfa2594c1f3a",
   "metadata": {},
   "outputs": [],
   "source": [
    "class Dog:\n",
    "    att1='mamaal'\n",
    "    def __init__(self, name):\n",
    "        self.name=name\n",
    "        \n",
    "    def speak(self):\n",
    "        print(\"my name is {}\".format(self.name))"
   ]
  },
  {
   "cell_type": "code",
   "execution_count": 15,
   "id": "9112c357-fcc7-428d-98f4-a9f751567d41",
   "metadata": {},
   "outputs": [
    {
     "name": "stdout",
     "output_type": "stream",
     "text": [
      "Name :  Shreyash Deshmukh\n",
      "Roll Number:  19\n",
      "Age :  21\n",
      "Expected Salary:  100000000\n"
     ]
    }
   ],
   "source": [
    "class student1:\n",
    "    \n",
    "    def __init__(self , name , roll_no):\n",
    "        self.name = name\n",
    "        self.roll_no = roll_no\n",
    "\n",
    "        \n",
    "class student2(student1):\n",
    "    \n",
    "    def __init__(self , name , roll_no, age , expected_salary):\n",
    "        super().__init__(name , roll_no)\n",
    "        self.age = age\n",
    "        self.expected_salary = expected_salary\n",
    "\n",
    "    def details(self):\n",
    "        print(\"Name : \", self.name)\n",
    "        print(\"Roll Number: \", self.roll_no)\n",
    "        print(\"Age : \", self.age)\n",
    "        print(\"Expected Salary: \", self.expected_salary)\n",
    "\n",
    "vari = student2( \"Shreyash Deshmukh\" , 19 , 21 , 100000000)\n",
    "vari.details()"
   ]
  },
  {
   "cell_type": "code",
   "execution_count": 16,
   "id": "aa754c05-22f2-4ee4-afba-cd566a92c21c",
   "metadata": {},
   "outputs": [
    {
     "name": "stdout",
     "output_type": "stream",
     "text": [
      "my name is bruno\n"
     ]
    }
   ],
   "source": [
    "bruno=Dog(\"bruno\")\n",
    "bruno.speak()\n"
   ]
  },
  {
   "cell_type": "code",
   "execution_count": 17,
   "id": "5881a82b-fdb7-4a60-987e-fab6ec84dc62",
   "metadata": {},
   "outputs": [
    {
     "name": "stdin",
     "output_type": "stream",
     "text": [
      "Enter the number:  4\n"
     ]
    },
    {
     "name": "stdout",
     "output_type": "stream",
     "text": [
      "4 * 1 = 4\n",
      "4 * 2 = 8\n",
      "4 * 3 = 12\n",
      "4 * 4 = 16\n",
      "4 * 5 = 20\n",
      "4 * 6 = 24\n",
      "4 * 7 = 28\n",
      "4 * 8 = 32\n",
      "4 * 9 = 36\n",
      "4 * 10 = 40\n"
     ]
    }
   ],
   "source": [
    "num = int(input(\"Enter the number: \"))\n",
    "\n",
    "for i in range(1,11):\n",
    "    print(f\"{num} * {i} = {num * i}\")"
   ]
  },
  {
   "cell_type": "code",
   "execution_count": null,
   "id": "1c015461-8816-4824-9b43-14bcfa7a89c5",
   "metadata": {},
   "outputs": [],
   "source": []
  }
 ],
 "metadata": {
  "kernelspec": {
   "display_name": "Python 3 (ipykernel)",
   "language": "python",
   "name": "python3"
  },
  "language_info": {
   "codemirror_mode": {
    "name": "ipython",
    "version": 3
   },
   "file_extension": ".py",
   "mimetype": "text/x-python",
   "name": "python",
   "nbconvert_exporter": "python",
   "pygments_lexer": "ipython3",
   "version": "3.13.5"
  }
 },
 "nbformat": 4,
 "nbformat_minor": 5
}
