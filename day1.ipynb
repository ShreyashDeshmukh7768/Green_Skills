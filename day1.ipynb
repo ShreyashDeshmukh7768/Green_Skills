{
 "cells": [
  {
   "cell_type": "code",
   "execution_count": 7,
   "id": "551f14f4-5602-4aae-a94f-99db137d0a2c",
   "metadata": {},
   "outputs": [
    {
     "name": "stdout",
     "output_type": "stream",
     "text": [
      "['mango', 'apple', 'banana']\n"
     ]
    }
   ],
   "source": [
    "fruits=[\"mango\", \"apple\",\"banana\"]\n",
    "print(fruits)"
   ]
  },
  {
   "cell_type": "code",
   "execution_count": 8,
   "id": "7ee9f50c-9160-498f-b10c-2cd78caf5575",
   "metadata": {},
   "outputs": [
    {
     "name": "stdout",
     "output_type": "stream",
     "text": [
      "['mango', 'apple', 'banana']\n"
     ]
    }
   ],
   "source": [
    "print(fruits)"
   ]
  },
  {
   "cell_type": "code",
   "execution_count": 12,
   "id": "c9011e1b-7175-4834-8f4d-1b7544706a90",
   "metadata": {},
   "outputs": [
    {
     "name": "stdout",
     "output_type": "stream",
     "text": [
      "('yamaha', 99, 'hello')\n"
     ]
    }
   ],
   "source": [
    "my_tuple=(\"yamaha\",99,'hello')\n",
    "print(my_tuple)"
   ]
  },
  {
   "cell_type": "code",
   "execution_count": 10,
   "id": "ac07b671-b39a-4d1e-b219-01a84cebffd9",
   "metadata": {},
   "outputs": [
    {
     "name": "stdout",
     "output_type": "stream",
     "text": [
      "['mango', 'apple', 'banana']\n"
     ]
    }
   ],
   "source": [
    "print(fruits)"
   ]
  },
  {
   "cell_type": "code",
   "execution_count": 11,
   "id": "d178b0d2-8f5e-4043-8877-2459584e6810",
   "metadata": {},
   "outputs": [
    {
     "data": {
      "text/plain": [
       "['mango', 'apple', 'banana']"
      ]
     },
     "execution_count": 11,
     "metadata": {},
     "output_type": "execute_result"
    }
   ],
   "source": [
    "fruits"
   ]
  },
  {
   "cell_type": "code",
   "execution_count": 28,
   "id": "45e9cf51-0170-447c-bdfb-ff79d0e17636",
   "metadata": {},
   "outputs": [],
   "source": [
    "my_dict={\"name\":\"mercedes\",\"color\":\"black\", \"model\":\"latest\", \"year\":2025}"
   ]
  },
  {
   "cell_type": "code",
   "execution_count": 29,
   "id": "5201c51c-1e04-4066-b371-82ec5e272226",
   "metadata": {},
   "outputs": [
    {
     "data": {
      "text/plain": [
       "{'name': 'mercedes', 'color': 'black', 'model': 'latest', 'year': 2025}"
      ]
     },
     "execution_count": 29,
     "metadata": {},
     "output_type": "execute_result"
    }
   ],
   "source": [
    "my_dict"
   ]
  },
  {
   "cell_type": "code",
   "execution_count": 31,
   "id": "08d92789-b7eb-4d04-8d8b-81f696940ec6",
   "metadata": {},
   "outputs": [
    {
     "name": "stdout",
     "output_type": "stream",
     "text": [
      "black\n"
     ]
    }
   ],
   "source": [
    "print(my_dict[\"color\"])"
   ]
  },
  {
   "cell_type": "code",
   "execution_count": 33,
   "id": "50714193-476f-458d-afef-5d936a044c8a",
   "metadata": {},
   "outputs": [
    {
     "name": "stdout",
     "output_type": "stream",
     "text": [
      "name\n",
      "color\n",
      "model\n",
      "year\n"
     ]
    }
   ],
   "source": [
    "for keys in my_dict.keys():\n",
    "    print(keys)"
   ]
  },
  {
   "cell_type": "code",
   "execution_count": 40,
   "id": "3c365a5c-06aa-43fa-a701-0141118f372d",
   "metadata": {},
   "outputs": [
    {
     "name": "stdout",
     "output_type": "stream",
     "text": [
      "mercedes\n",
      "black\n",
      "latest\n",
      "2025\n"
     ]
    }
   ],
   "source": [
    "for value in my_dict.values():\n",
    "    print(value)"
   ]
  },
  {
   "cell_type": "code",
   "execution_count": 45,
   "id": "9431b1bc-d1e6-4a6a-8693-e4184d7f3ec1",
   "metadata": {},
   "outputs": [],
   "source": [
    "my_set={1,2,3}"
   ]
  },
  {
   "cell_type": "code",
   "execution_count": 65,
   "id": "a0a3e9b4-b7a1-45a8-a05a-e70374191f7c",
   "metadata": {},
   "outputs": [
    {
     "name": "stdout",
     "output_type": "stream",
     "text": [
      "0\n",
      "2\n",
      "4\n",
      "6\n",
      "8\n",
      "10\n",
      "12\n",
      "14\n",
      "16\n",
      "18\n",
      "20\n",
      "22\n",
      "24\n",
      "26\n",
      "28\n",
      "30\n",
      "32\n",
      "34\n",
      "36\n",
      "38\n",
      "40\n",
      "42\n",
      "44\n",
      "46\n",
      "48\n",
      "50\n"
     ]
    }
   ],
   "source": [
    "def func():\n",
    "    i=0\n",
    "    for i in range(51):\n",
    "        if i%2==0:\n",
    "            print(i)\n",
    "func()"
   ]
  },
  {
   "cell_type": "code",
   "execution_count": 1,
   "id": "608a34c5-523b-4853-a27e-ddd1fb116789",
   "metadata": {},
   "outputs": [
    {
     "name": "stdout",
     "output_type": "stream",
     "text": [
      "p\n"
     ]
    }
   ],
   "source": [
    "var=[\"a\",\"e\",\"p\"]\n",
    "var\n",
    "def func():\n",
    "    for i in range(len(var)):  \n",
    "        if var[i].lower() not in ('a','e','i','o','u'):\n",
    "            print(var[i])      \n",
    "func()\n",
    "        \n",
    "    "
   ]
  },
  {
   "cell_type": "code",
   "execution_count": 124,
   "id": "7fa0a4c8-5537-4c88-8eeb-cfa2594c1f3a",
   "metadata": {},
   "outputs": [],
   "source": [
    "class Dog:\n",
    "    att1='mamaal'\n",
    "    def __init__(self, name):\n",
    "        self.name=name\n",
    "        \n",
    "    def speak(self):\n",
    "        print(\"my name is {}\".format(self.name))"
   ]
  },
  {
   "cell_type": "raw",
   "id": "a354a861-8597-46a0-8b84-7ba029d094d6",
   "metadata": {},
   "source": []
  },
  {
   "cell_type": "code",
   "execution_count": 125,
   "id": "aa754c05-22f2-4ee4-afba-cd566a92c21c",
   "metadata": {},
   "outputs": [
    {
     "name": "stdout",
     "output_type": "stream",
     "text": [
      "my name is bruno\n"
     ]
    }
   ],
   "source": [
    "bruno=Dog(\"bruno\")\n",
    "bruno.speak()\n"
   ]
  },
  {
   "cell_type": "raw",
   "id": "801dbc48-7d0c-43bb-bf66-4a8c2b6aa2be",
   "metadata": {},
   "source": []
  },
  {
   "cell_type": "code",
   "execution_count": 1,
   "id": "f89a801b-2dbb-4d3c-9c28-6a5b2403b95e",
   "metadata": {},
   "outputs": [
    {
     "ename": "SyntaxError",
     "evalue": "invalid syntax (3118604394.py, line 9)",
     "output_type": "error",
     "traceback": [
      "  \u001b[36mCell\u001b[39m\u001b[36m \u001b[39m\u001b[32mIn[1]\u001b[39m\u001b[32m, line 9\u001b[39m\n\u001b[31m    \u001b[39m\u001b[31msuper.__init__(name , age, roll_no):\u001b[39m\n                                       ^\n\u001b[31mSyntaxError\u001b[39m\u001b[31m:\u001b[39m invalid syntax\n"
     ]
    }
   ],
   "source": [
    "class student1:\n",
    "    def __init__(self, name , age, roll_no):\n",
    "        self.name=name\n",
    "        self.age=age\n",
    "        self.roll_no=roll_no\n",
    "\n",
    "class student2(student1):\n",
    "    def __init__(self, name, age, roll_no, div):\n",
    "        super.__init__(name , age, roll_no)\n",
    "        self.div=div\n",
    "\n",
    "        def display():\n",
    "            print(self.name)\n",
    "            print(self.age)\n",
    "            print(self.roll_no)\n",
    "            \n",
    "        \n",
    "        "
   ]
  },
  {
   "cell_type": "code",
   "execution_count": null,
   "id": "9112c357-fcc7-428d-98f4-a9f751567d41",
   "metadata": {},
   "outputs": [],
   "source": []
  },
  {
   "cell_type": "code",
   "execution_count": null,
   "id": "5881a82b-fdb7-4a60-987e-fab6ec84dc62",
   "metadata": {},
   "outputs": [],
   "source": []
  }
 ],
 "metadata": {
  "kernelspec": {
   "display_name": "Python 3 (ipykernel)",
   "language": "python",
   "name": "python3"
  },
  "language_info": {
   "codemirror_mode": {
    "name": "ipython",
    "version": 3
   },
   "file_extension": ".py",
   "mimetype": "text/x-python",
   "name": "python",
   "nbconvert_exporter": "python",
   "pygments_lexer": "ipython3",
   "version": "3.13.5"
  }
 },
 "nbformat": 4,
 "nbformat_minor": 5
}
