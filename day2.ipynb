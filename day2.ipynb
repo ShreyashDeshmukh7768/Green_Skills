{
 "cells": [
  {
   "cell_type": "code",
   "execution_count": 3,
   "id": "7680395d-b582-4552-a7c4-909d9c11d825",
   "metadata": {},
   "outputs": [],
   "source": [
    "#pip install numpy"
   ]
  },
  {
   "cell_type": "code",
   "execution_count": 4,
   "id": "9cb55a22-14fd-407a-80d0-08ecdc7906ee",
   "metadata": {},
   "outputs": [],
   "source": [
    "import numpy as np"
   ]
  },
  {
   "cell_type": "code",
   "execution_count": 5,
   "id": "aac7b8f6-c773-4e52-8c35-16ce92fe5d05",
   "metadata": {},
   "outputs": [
    {
     "data": {
      "text/plain": [
       "array([ 1,  8,  9, 22, 12, 13, 15])"
      ]
     },
     "execution_count": 5,
     "metadata": {},
     "output_type": "execute_result"
    }
   ],
   "source": [
    "one = np.array([1,8,9,22,12,13,15])\n",
    "one"
   ]
  },
  {
   "cell_type": "code",
   "execution_count": 6,
   "id": "f2f71194-227d-468d-a303-40b448800019",
   "metadata": {},
   "outputs": [
    {
     "data": {
      "text/plain": [
       "1"
      ]
     },
     "execution_count": 6,
     "metadata": {},
     "output_type": "execute_result"
    }
   ],
   "source": [
    "one.ndim"
   ]
  },
  {
   "cell_type": "code",
   "execution_count": 7,
   "id": "bbb425a2-8e6c-4175-8aea-858e32bb0747",
   "metadata": {},
   "outputs": [
    {
     "data": {
      "text/plain": [
       "array([[2, 3, 5]])"
      ]
     },
     "execution_count": 7,
     "metadata": {},
     "output_type": "execute_result"
    }
   ],
   "source": [
    "two=np.array([[2,3,5]])\n",
    "two"
   ]
  },
  {
   "cell_type": "code",
   "execution_count": 8,
   "id": "60acbdd7-814f-429e-9ab3-20d0cdceb45b",
   "metadata": {},
   "outputs": [
    {
     "data": {
      "text/plain": [
       "2"
      ]
     },
     "execution_count": 8,
     "metadata": {},
     "output_type": "execute_result"
    }
   ],
   "source": [
    "two.ndim"
   ]
  },
  {
   "cell_type": "code",
   "execution_count": 9,
   "id": "e3a99fb7-1c8f-4eb3-ab44-d6d44ba18e94",
   "metadata": {},
   "outputs": [
    {
     "data": {
      "text/plain": [
       "array([[[[['black', 'white']]]]], dtype='<U5')"
      ]
     },
     "execution_count": 9,
     "metadata": {},
     "output_type": "execute_result"
    }
   ],
   "source": [
    "five=np.array([[[[[\"black\",\"white\"]]]]])\n",
    "five"
   ]
  },
  {
   "cell_type": "code",
   "execution_count": 10,
   "id": "dcddebd2-c8bd-49b8-b3ed-171cd0b0a7f4",
   "metadata": {},
   "outputs": [
    {
     "data": {
      "text/plain": [
       "5"
      ]
     },
     "execution_count": 10,
     "metadata": {},
     "output_type": "execute_result"
    }
   ],
   "source": [
    "five.ndim"
   ]
  },
  {
   "cell_type": "code",
   "execution_count": 11,
   "id": "1303c4b6-032f-478b-a509-1dbb0df2e39d",
   "metadata": {},
   "outputs": [
    {
     "data": {
      "text/plain": [
       "3"
      ]
     },
     "execution_count": 11,
     "metadata": {},
     "output_type": "execute_result"
    }
   ],
   "source": [
    "two.size"
   ]
  },
  {
   "cell_type": "code",
   "execution_count": 12,
   "id": "554c632c-6b03-442b-a7bf-2c13ea52f14f",
   "metadata": {},
   "outputs": [
    {
     "data": {
      "text/plain": [
       "dtype('int64')"
      ]
     },
     "execution_count": 12,
     "metadata": {},
     "output_type": "execute_result"
    }
   ],
   "source": [
    "two.dtype"
   ]
  },
  {
   "cell_type": "code",
   "execution_count": 13,
   "id": "642bc0df-cf7b-4c44-b316-b0ba413b024b",
   "metadata": {},
   "outputs": [
    {
     "data": {
      "text/plain": [
       "dtype('<U5')"
      ]
     },
     "execution_count": 13,
     "metadata": {},
     "output_type": "execute_result"
    }
   ],
   "source": [
    "five.dtype"
   ]
  },
  {
   "cell_type": "code",
   "execution_count": 14,
   "id": "ef039b83-eff5-44ff-84f2-62991a5dd3a5",
   "metadata": {},
   "outputs": [
    {
     "data": {
      "text/plain": [
       "8"
      ]
     },
     "execution_count": 14,
     "metadata": {},
     "output_type": "execute_result"
    }
   ],
   "source": [
    "two.itemsize"
   ]
  },
  {
   "cell_type": "code",
   "execution_count": 15,
   "id": "fed38091-9244-4c2c-924c-903a78300fe3",
   "metadata": {},
   "outputs": [
    {
     "data": {
      "text/plain": [
       "7"
      ]
     },
     "execution_count": 15,
     "metadata": {},
     "output_type": "execute_result"
    }
   ],
   "source": [
    "one.size"
   ]
  },
  {
   "cell_type": "code",
   "execution_count": 16,
   "id": "f3aabb80-9efb-4913-87e2-df2729fd5b14",
   "metadata": {},
   "outputs": [],
   "source": [
    "one_arr=np.zeros((4,4))"
   ]
  },
  {
   "cell_type": "code",
   "execution_count": 17,
   "id": "567a9252-e30f-40fd-8755-7ba73cdd530f",
   "metadata": {},
   "outputs": [
    {
     "data": {
      "text/plain": [
       "array([[0., 0., 0., 0.],\n",
       "       [0., 0., 0., 0.],\n",
       "       [0., 0., 0., 0.],\n",
       "       [0., 0., 0., 0.]])"
      ]
     },
     "execution_count": 17,
     "metadata": {},
     "output_type": "execute_result"
    }
   ],
   "source": [
    "one_arr"
   ]
  },
  {
   "cell_type": "code",
   "execution_count": 18,
   "id": "c15640cc-8d6c-4bdd-bc05-1ac14fd60cfa",
   "metadata": {},
   "outputs": [],
   "source": [
    "one_arr=np.ones((4,4))"
   ]
  },
  {
   "cell_type": "code",
   "execution_count": 19,
   "id": "f899ab02-5f1e-4ae4-b1da-b16c3af785f2",
   "metadata": {},
   "outputs": [
    {
     "data": {
      "text/plain": [
       "array([[1., 1., 1., 1.],\n",
       "       [1., 1., 1., 1.],\n",
       "       [1., 1., 1., 1.],\n",
       "       [1., 1., 1., 1.]])"
      ]
     },
     "execution_count": 19,
     "metadata": {},
     "output_type": "execute_result"
    }
   ],
   "source": [
    "one_arr"
   ]
  },
  {
   "cell_type": "code",
   "execution_count": 20,
   "id": "e1b140f1-656f-4ced-9d2e-4de2c85ac871",
   "metadata": {},
   "outputs": [
    {
     "data": {
      "text/plain": [
       "array([[0.61332723, 0.20520324, 0.14174819, 0.80138076],\n",
       "       [0.68900853, 0.07670036, 0.39774618, 0.39248239],\n",
       "       [0.79346048, 0.33452525, 0.11050735, 0.12452136],\n",
       "       [0.98224154, 0.40894359, 0.5213843 , 0.96704932]])"
      ]
     },
     "execution_count": 20,
     "metadata": {},
     "output_type": "execute_result"
    }
   ],
   "source": [
    "random=np.random.random((4,4))\n",
    "random"
   ]
  },
  {
   "cell_type": "raw",
   "id": "e3abaaac-6c1c-45d5-ab5f-ae467903ad21",
   "metadata": {},
   "source": []
  },
  {
   "cell_type": "code",
   "execution_count": 21,
   "id": "2bdc558e-155a-49d4-afe4-fd9410fa75c4",
   "metadata": {},
   "outputs": [],
   "source": [
    "identity=np.identity(3)"
   ]
  },
  {
   "cell_type": "code",
   "execution_count": 22,
   "id": "25c433a4-7efe-4bbb-88af-e190ae42aace",
   "metadata": {},
   "outputs": [
    {
     "data": {
      "text/plain": [
       "array([[1., 0., 0.],\n",
       "       [0., 1., 0.],\n",
       "       [0., 0., 1.]])"
      ]
     },
     "execution_count": 22,
     "metadata": {},
     "output_type": "execute_result"
    }
   ],
   "source": [
    "identity"
   ]
  },
  {
   "cell_type": "code",
   "execution_count": 23,
   "id": "171dfeb8-0a10-4a77-ac13-a0f72e4428a0",
   "metadata": {},
   "outputs": [
    {
     "data": {
      "text/plain": [
       "<function numpy.arange>"
      ]
     },
     "execution_count": 23,
     "metadata": {},
     "output_type": "execute_result"
    }
   ],
   "source": [
    "np.arange"
   ]
  },
  {
   "cell_type": "code",
   "execution_count": 24,
   "id": "32f07565-ace4-4fc5-bc33-b884b125292f",
   "metadata": {},
   "outputs": [
    {
     "data": {
      "text/plain": [
       "array([0])"
      ]
     },
     "execution_count": 24,
     "metadata": {},
     "output_type": "execute_result"
    }
   ],
   "source": [
    "np.arange(1)"
   ]
  },
  {
   "cell_type": "code",
   "execution_count": 25,
   "id": "32ced314-060c-4ad5-8b16-fb58be0b4687",
   "metadata": {},
   "outputs": [],
   "source": [
    "arange=np.arange(399,415)"
   ]
  },
  {
   "cell_type": "code",
   "execution_count": 26,
   "id": "e37a0b3a-e152-4b61-ba32-f8c58ad80173",
   "metadata": {},
   "outputs": [
    {
     "data": {
      "text/plain": [
       "array([399, 400, 401, 402, 403, 404, 405, 406, 407, 408, 409, 410, 411,\n",
       "       412, 413, 414])"
      ]
     },
     "execution_count": 26,
     "metadata": {},
     "output_type": "execute_result"
    }
   ],
   "source": [
    "arange"
   ]
  },
  {
   "cell_type": "code",
   "execution_count": 27,
   "id": "5b72f07e-e534-48ae-943e-ec7064f1eb53",
   "metadata": {},
   "outputs": [],
   "source": [
    "arange2=np.arange(10,100,10)"
   ]
  },
  {
   "cell_type": "code",
   "execution_count": 28,
   "id": "35b5abd9-2d43-46b3-a51f-2ae476435b38",
   "metadata": {},
   "outputs": [
    {
     "data": {
      "text/plain": [
       "array([10, 20, 30, 40, 50, 60, 70, 80, 90])"
      ]
     },
     "execution_count": 28,
     "metadata": {},
     "output_type": "execute_result"
    }
   ],
   "source": [
    "arange2"
   ]
  },
  {
   "cell_type": "code",
   "execution_count": 29,
   "id": "c85db4e2-273c-4102-a80d-893e2d2c98b3",
   "metadata": {},
   "outputs": [
    {
     "data": {
      "text/plain": [
       "array([ 2.        ,  2.98305085,  3.96610169,  4.94915254,  5.93220339,\n",
       "        6.91525424,  7.89830508,  8.88135593,  9.86440678, 10.84745763,\n",
       "       11.83050847, 12.81355932, 13.79661017, 14.77966102, 15.76271186,\n",
       "       16.74576271, 17.72881356, 18.71186441, 19.69491525, 20.6779661 ,\n",
       "       21.66101695, 22.6440678 , 23.62711864, 24.61016949, 25.59322034,\n",
       "       26.57627119, 27.55932203, 28.54237288, 29.52542373, 30.50847458,\n",
       "       31.49152542, 32.47457627, 33.45762712, 34.44067797, 35.42372881,\n",
       "       36.40677966, 37.38983051, 38.37288136, 39.3559322 , 40.33898305,\n",
       "       41.3220339 , 42.30508475, 43.28813559, 44.27118644, 45.25423729,\n",
       "       46.23728814, 47.22033898, 48.20338983, 49.18644068, 50.16949153,\n",
       "       51.15254237, 52.13559322, 53.11864407, 54.10169492, 55.08474576,\n",
       "       56.06779661, 57.05084746, 58.03389831, 59.01694915, 60.        ])"
      ]
     },
     "execution_count": 29,
     "metadata": {},
     "output_type": "execute_result"
    }
   ],
   "source": [
    "linspace=np.linspace(2,60,60)\n",
    "linspace"
   ]
  },
  {
   "cell_type": "code",
   "execution_count": 30,
   "id": "1e0af7f4-b5c8-432b-991d-4af734beb272",
   "metadata": {},
   "outputs": [],
   "source": [
    "my_list=[1,2,3,4,5]"
   ]
  },
  {
   "cell_type": "markdown",
   "id": "cb3a8611-d82e-4ffa-9f2b-8cc9675eea75",
   "metadata": {},
   "source": [
    "my_list"
   ]
  },
  {
   "cell_type": "code",
   "execution_count": 31,
   "id": "33755365-74ab-4672-afb0-2888d3a0dd13",
   "metadata": {},
   "outputs": [
    {
     "data": {
      "text/plain": [
       "[1, 2, 3, 4, 5]"
      ]
     },
     "execution_count": 31,
     "metadata": {},
     "output_type": "execute_result"
    }
   ],
   "source": [
    "my_list"
   ]
  },
  {
   "cell_type": "code",
   "execution_count": 32,
   "id": "8e41f421-c6c2-43a5-9104-93f9eb350e9d",
   "metadata": {},
   "outputs": [],
   "source": [
    "arr=np.array(my_list)"
   ]
  },
  {
   "cell_type": "code",
   "execution_count": 33,
   "id": "d3d3484b-8584-43ec-ac55-e794f948e3ce",
   "metadata": {},
   "outputs": [
    {
     "data": {
      "text/plain": [
       "array([1, 2, 3, 4, 5])"
      ]
     },
     "execution_count": 33,
     "metadata": {},
     "output_type": "execute_result"
    }
   ],
   "source": [
    "arr"
   ]
  },
  {
   "cell_type": "code",
   "execution_count": 34,
   "id": "5232fe4a-08d0-416d-9884-443b45ee4f9b",
   "metadata": {},
   "outputs": [],
   "source": [
    "my_tuple=((1,2),(3,4))"
   ]
  },
  {
   "cell_type": "code",
   "execution_count": 35,
   "id": "dfd29b29-9042-4e55-8fc6-ccf5c0141953",
   "metadata": {},
   "outputs": [
    {
     "data": {
      "text/plain": [
       "((1, 2), (3, 4))"
      ]
     },
     "execution_count": 35,
     "metadata": {},
     "output_type": "execute_result"
    }
   ],
   "source": [
    "my_tuple"
   ]
  },
  {
   "cell_type": "code",
   "execution_count": 36,
   "id": "a5e639bf-a7c6-4a9e-b97a-78425842cc50",
   "metadata": {},
   "outputs": [],
   "source": [
    "arr2=np.array(my_tuple)"
   ]
  },
  {
   "cell_type": "code",
   "execution_count": 37,
   "id": "36acc620-7e8a-48bc-b2b4-00d3b31c1515",
   "metadata": {},
   "outputs": [
    {
     "data": {
      "text/plain": [
       "array([[1, 2],\n",
       "       [3, 4]])"
      ]
     },
     "execution_count": 37,
     "metadata": {},
     "output_type": "execute_result"
    }
   ],
   "source": [
    "arr2"
   ]
  },
  {
   "cell_type": "code",
   "execution_count": 38,
   "id": "64c58907-1b5f-4bd2-b009-9bd5e5863f4b",
   "metadata": {},
   "outputs": [
    {
     "data": {
      "text/plain": [
       "array([3, 4])"
      ]
     },
     "execution_count": 38,
     "metadata": {},
     "output_type": "execute_result"
    }
   ],
   "source": [
    "arr2[1]"
   ]
  },
  {
   "cell_type": "code",
   "execution_count": 39,
   "id": "5ddbdbec-c21b-4eda-a110-fbf7409799ea",
   "metadata": {},
   "outputs": [
    {
     "data": {
      "text/plain": [
       "array([5, 4, 3, 2, 1])"
      ]
     },
     "execution_count": 39,
     "metadata": {},
     "output_type": "execute_result"
    }
   ],
   "source": [
    "arr[::-1]"
   ]
  },
  {
   "cell_type": "code",
   "execution_count": 40,
   "id": "6c9ea486-b364-4886-a618-265de5cc559e",
   "metadata": {},
   "outputs": [
    {
     "data": {
      "text/plain": [
       "array([2, 3, 4, 5])"
      ]
     },
     "execution_count": 40,
     "metadata": {},
     "output_type": "execute_result"
    }
   ],
   "source": [
    "arr[1::]"
   ]
  },
  {
   "cell_type": "code",
   "execution_count": 41,
   "id": "10c22e8d-fc7e-4b51-b3dd-76df28130cff",
   "metadata": {},
   "outputs": [
    {
     "data": {
      "text/plain": [
       "array([[1, 2, 3],\n",
       "       [4, 5, 6],\n",
       "       [7, 8, 9]])"
      ]
     },
     "execution_count": 41,
     "metadata": {},
     "output_type": "execute_result"
    }
   ],
   "source": [
    "kernel=np.array([[1,2,3],[4,5,6],[7,8,9]])\n",
    "kernel"
   ]
  },
  {
   "cell_type": "code",
   "execution_count": 42,
   "id": "48eeccb0-bea3-45fe-aad5-87603101d503",
   "metadata": {},
   "outputs": [
    {
     "data": {
      "text/plain": [
       "array([1, 2, 3, 4, 5, 6, 7, 8, 9])"
      ]
     },
     "execution_count": 42,
     "metadata": {},
     "output_type": "execute_result"
    }
   ],
   "source": [
    "kernel.flatten()"
   ]
  },
  {
   "cell_type": "code",
   "execution_count": 43,
   "id": "5ca44f79-ea23-4dd2-9c8e-0cccccd83724",
   "metadata": {},
   "outputs": [
    {
     "data": {
      "text/plain": [
       "9"
      ]
     },
     "execution_count": 43,
     "metadata": {},
     "output_type": "execute_result"
    }
   ],
   "source": [
    "kernel.size"
   ]
  },
  {
   "cell_type": "code",
   "execution_count": 44,
   "id": "8fcdbc4c-134a-42b6-839c-b9c307764d4e",
   "metadata": {},
   "outputs": [
    {
     "name": "stdout",
     "output_type": "stream",
     "text": [
      "None\n"
     ]
    }
   ],
   "source": [
    "print(kernel.resize(3,3))"
   ]
  },
  {
   "cell_type": "code",
   "execution_count": 45,
   "id": "b1d36a17-88c1-4b86-84f9-a4fd8ecec5b4",
   "metadata": {},
   "outputs": [
    {
     "data": {
      "text/plain": [
       "array([[1, 2, 3],\n",
       "       [4, 5, 6],\n",
       "       [7, 8, 9]])"
      ]
     },
     "execution_count": 45,
     "metadata": {},
     "output_type": "execute_result"
    }
   ],
   "source": [
    "kernel"
   ]
  },
  {
   "cell_type": "code",
   "execution_count": 46,
   "id": "11159fc2-b00f-4324-9ad1-fd7c8a8f6c05",
   "metadata": {},
   "outputs": [],
   "source": [
    "arr3=np.array([[1,2],[3,4]])"
   ]
  },
  {
   "cell_type": "code",
   "execution_count": 47,
   "id": "7070a6d1-f278-45e0-a36f-dc1e068f54f2",
   "metadata": {},
   "outputs": [
    {
     "data": {
      "text/plain": [
       "array([[1, 2],\n",
       "       [3, 4]])"
      ]
     },
     "execution_count": 47,
     "metadata": {},
     "output_type": "execute_result"
    }
   ],
   "source": [
    "arr3"
   ]
  },
  {
   "cell_type": "code",
   "execution_count": 48,
   "id": "281a0a62-fb4c-4b43-81e3-34039c563b99",
   "metadata": {},
   "outputs": [],
   "source": [
    "arr3=np.resize(2,2)"
   ]
  },
  {
   "cell_type": "code",
   "execution_count": 49,
   "id": "f7acc21b-e03b-4193-a8e5-dcaa5a874c77",
   "metadata": {},
   "outputs": [
    {
     "data": {
      "text/plain": [
       "array([2, 2])"
      ]
     },
     "execution_count": 49,
     "metadata": {},
     "output_type": "execute_result"
    }
   ],
   "source": [
    "arr3"
   ]
  },
  {
   "cell_type": "code",
   "execution_count": 50,
   "id": "34fe691e-79a6-4e96-ae5f-183efd8a64e6",
   "metadata": {},
   "outputs": [
    {
     "data": {
      "text/plain": [
       "array([[2, 2, 2],\n",
       "       [2, 2, 2]])"
      ]
     },
     "execution_count": 50,
     "metadata": {},
     "output_type": "execute_result"
    }
   ],
   "source": [
    "np.resize(arr3,(2,3))"
   ]
  },
  {
   "cell_type": "code",
   "execution_count": 51,
   "id": "f99f0380-0de3-4c4f-943d-6377ff09dd54",
   "metadata": {},
   "outputs": [],
   "source": [
    "my_dict={1:[\"numpy, pandas, matplotlib\"]}"
   ]
  },
  {
   "cell_type": "code",
   "execution_count": 52,
   "id": "9ce83c32-baf9-4a21-b821-17598671d39a",
   "metadata": {},
   "outputs": [
    {
     "data": {
      "text/plain": [
       "{1: ['numpy, pandas, matplotlib']}"
      ]
     },
     "execution_count": 52,
     "metadata": {},
     "output_type": "execute_result"
    }
   ],
   "source": [
    "my_dict"
   ]
  },
  {
   "cell_type": "code",
   "execution_count": 53,
   "id": "113a68cb-5302-4929-b3ca-d86d6ab0ac7b",
   "metadata": {},
   "outputs": [
    {
     "name": "stdout",
     "output_type": "stream",
     "text": [
      "Requirement already satisfied: pandas in /opt/miniconda3/lib/python3.13/site-packages (2.3.1)\n",
      "Requirement already satisfied: numpy>=1.26.0 in /opt/miniconda3/lib/python3.13/site-packages (from pandas) (2.3.2)\n",
      "Requirement already satisfied: python-dateutil>=2.8.2 in /opt/miniconda3/lib/python3.13/site-packages (from pandas) (2.9.0.post0)\n",
      "Requirement already satisfied: pytz>=2020.1 in /opt/miniconda3/lib/python3.13/site-packages (from pandas) (2025.2)\n",
      "Requirement already satisfied: tzdata>=2022.7 in /opt/miniconda3/lib/python3.13/site-packages (from pandas) (2025.2)\n",
      "Requirement already satisfied: six>=1.5 in /opt/miniconda3/lib/python3.13/site-packages (from python-dateutil>=2.8.2->pandas) (1.17.0)\n",
      "Note: you may need to restart the kernel to use updated packages.\n"
     ]
    }
   ],
   "source": [
    "pip install pandas"
   ]
  },
  {
   "cell_type": "code",
   "execution_count": 54,
   "id": "8613aae1-55b0-4440-b38e-79f95cd0377e",
   "metadata": {},
   "outputs": [],
   "source": [
    "import pandas as pd"
   ]
  },
  {
   "cell_type": "code",
   "execution_count": 55,
   "id": "a9ebba4e-b882-43ad-8a3e-846f726729c4",
   "metadata": {},
   "outputs": [
    {
     "data": {
      "text/html": [
       "<div>\n",
       "<style scoped>\n",
       "    .dataframe tbody tr th:only-of-type {\n",
       "        vertical-align: middle;\n",
       "    }\n",
       "\n",
       "    .dataframe tbody tr th {\n",
       "        vertical-align: top;\n",
       "    }\n",
       "\n",
       "    .dataframe thead th {\n",
       "        text-align: right;\n",
       "    }\n",
       "</style>\n",
       "<table border=\"1\" class=\"dataframe\">\n",
       "  <thead>\n",
       "    <tr style=\"text-align: right;\">\n",
       "      <th></th>\n",
       "      <th>name</th>\n",
       "      <th>age</th>\n",
       "      <th>city</th>\n",
       "    </tr>\n",
       "  </thead>\n",
       "  <tbody>\n",
       "    <tr>\n",
       "      <th>0</th>\n",
       "      <td>sahil</td>\n",
       "      <td>25</td>\n",
       "      <td>New York</td>\n",
       "    </tr>\n",
       "    <tr>\n",
       "      <th>1</th>\n",
       "      <td>shreyash</td>\n",
       "      <td>30</td>\n",
       "      <td>London</td>\n",
       "    </tr>\n",
       "    <tr>\n",
       "      <th>2</th>\n",
       "      <td>siddesh</td>\n",
       "      <td>35</td>\n",
       "      <td>Paris</td>\n",
       "    </tr>\n",
       "  </tbody>\n",
       "</table>\n",
       "</div>"
      ],
      "text/plain": [
       "       name  age      city\n",
       "0     sahil   25  New York\n",
       "1  shreyash   30    London\n",
       "2   siddesh   35     Paris"
      ]
     },
     "execution_count": 55,
     "metadata": {},
     "output_type": "execute_result"
    }
   ],
   "source": [
    "data={\n",
    "    'name':['sahil','shreyash','siddesh'],\n",
    "    'age':[25,30,35],\n",
    "    'city':['New York','London','Paris']}\n",
    "df=pd.DataFrame(data)\n",
    "df"
   ]
  },
  {
   "cell_type": "code",
   "execution_count": 56,
   "id": "9452c10c-8230-4e8f-81d6-03e18a33c0db",
   "metadata": {},
   "outputs": [
    {
     "data": {
      "text/html": [
       "<div>\n",
       "<style scoped>\n",
       "    .dataframe tbody tr th:only-of-type {\n",
       "        vertical-align: middle;\n",
       "    }\n",
       "\n",
       "    .dataframe tbody tr th {\n",
       "        vertical-align: top;\n",
       "    }\n",
       "\n",
       "    .dataframe thead th {\n",
       "        text-align: right;\n",
       "    }\n",
       "</style>\n",
       "<table border=\"1\" class=\"dataframe\">\n",
       "  <thead>\n",
       "    <tr style=\"text-align: right;\">\n",
       "      <th></th>\n",
       "      <th>age</th>\n",
       "    </tr>\n",
       "  </thead>\n",
       "  <tbody>\n",
       "    <tr>\n",
       "      <th>count</th>\n",
       "      <td>3.0</td>\n",
       "    </tr>\n",
       "    <tr>\n",
       "      <th>mean</th>\n",
       "      <td>30.0</td>\n",
       "    </tr>\n",
       "    <tr>\n",
       "      <th>std</th>\n",
       "      <td>5.0</td>\n",
       "    </tr>\n",
       "    <tr>\n",
       "      <th>min</th>\n",
       "      <td>25.0</td>\n",
       "    </tr>\n",
       "    <tr>\n",
       "      <th>25%</th>\n",
       "      <td>27.5</td>\n",
       "    </tr>\n",
       "    <tr>\n",
       "      <th>50%</th>\n",
       "      <td>30.0</td>\n",
       "    </tr>\n",
       "    <tr>\n",
       "      <th>75%</th>\n",
       "      <td>32.5</td>\n",
       "    </tr>\n",
       "    <tr>\n",
       "      <th>max</th>\n",
       "      <td>35.0</td>\n",
       "    </tr>\n",
       "  </tbody>\n",
       "</table>\n",
       "</div>"
      ],
      "text/plain": [
       "        age\n",
       "count   3.0\n",
       "mean   30.0\n",
       "std     5.0\n",
       "min    25.0\n",
       "25%    27.5\n",
       "50%    30.0\n",
       "75%    32.5\n",
       "max    35.0"
      ]
     },
     "execution_count": 56,
     "metadata": {},
     "output_type": "execute_result"
    }
   ],
   "source": [
    "df.describe()"
   ]
  },
  {
   "cell_type": "code",
   "execution_count": 57,
   "id": "9fd2c443-352d-41e0-955e-d6aad903215d",
   "metadata": {},
   "outputs": [],
   "source": [
    "import numpy as np\n",
    "import pandas as pd"
   ]
  },
  {
   "cell_type": "code",
   "execution_count": 58,
   "id": "4519625f-2d2e-47a2-93e5-9696410cc204",
   "metadata": {},
   "outputs": [],
   "source": [
    "data={\n",
    "    \"Energy Source\":[\"Solar\",\"Wind\",\"Hydropower\",\"Gepthermal\",\"Biomass\",\"Nuclear\"],\n",
    "    \"Energy Consumption (MwH)\" : [1200, np.nan, 2900, np.nan, 2500, 3200],\n",
    "    \"Cost (Millions $)\": [200,400, np.nan, 150, 250, np.nan]\n",
    "} "
   ]
  },
  {
   "cell_type": "code",
   "execution_count": 59,
   "id": "91530ccf-38a5-4d9c-8567-752559eacf3c",
   "metadata": {},
   "outputs": [
    {
     "data": {
      "text/plain": [
       "{'Energy Source': ['Solar',\n",
       "  'Wind',\n",
       "  'Hydropower',\n",
       "  'Gepthermal',\n",
       "  'Biomass',\n",
       "  'Nuclear'],\n",
       " 'Energy Consumption (MwH)': [1200, nan, 2900, nan, 2500, 3200],\n",
       " 'Cost (Millions $)': [200, 400, nan, 150, 250, nan]}"
      ]
     },
     "execution_count": 59,
     "metadata": {},
     "output_type": "execute_result"
    }
   ],
   "source": [
    "data"
   ]
  },
  {
   "cell_type": "code",
   "execution_count": 60,
   "id": "a3b0bd1b-ccea-41e5-96b2-29d7e7bc6449",
   "metadata": {},
   "outputs": [
    {
     "data": {
      "text/html": [
       "<div>\n",
       "<style scoped>\n",
       "    .dataframe tbody tr th:only-of-type {\n",
       "        vertical-align: middle;\n",
       "    }\n",
       "\n",
       "    .dataframe tbody tr th {\n",
       "        vertical-align: top;\n",
       "    }\n",
       "\n",
       "    .dataframe thead th {\n",
       "        text-align: right;\n",
       "    }\n",
       "</style>\n",
       "<table border=\"1\" class=\"dataframe\">\n",
       "  <thead>\n",
       "    <tr style=\"text-align: right;\">\n",
       "      <th></th>\n",
       "      <th>Energy Source</th>\n",
       "      <th>Energy Consumption (MwH)</th>\n",
       "      <th>Cost (Millions $)</th>\n",
       "    </tr>\n",
       "  </thead>\n",
       "  <tbody>\n",
       "    <tr>\n",
       "      <th>0</th>\n",
       "      <td>Solar</td>\n",
       "      <td>1200.0</td>\n",
       "      <td>200.0</td>\n",
       "    </tr>\n",
       "    <tr>\n",
       "      <th>1</th>\n",
       "      <td>Wind</td>\n",
       "      <td>NaN</td>\n",
       "      <td>400.0</td>\n",
       "    </tr>\n",
       "    <tr>\n",
       "      <th>2</th>\n",
       "      <td>Hydropower</td>\n",
       "      <td>2900.0</td>\n",
       "      <td>NaN</td>\n",
       "    </tr>\n",
       "    <tr>\n",
       "      <th>3</th>\n",
       "      <td>Gepthermal</td>\n",
       "      <td>NaN</td>\n",
       "      <td>150.0</td>\n",
       "    </tr>\n",
       "    <tr>\n",
       "      <th>4</th>\n",
       "      <td>Biomass</td>\n",
       "      <td>2500.0</td>\n",
       "      <td>250.0</td>\n",
       "    </tr>\n",
       "    <tr>\n",
       "      <th>5</th>\n",
       "      <td>Nuclear</td>\n",
       "      <td>3200.0</td>\n",
       "      <td>NaN</td>\n",
       "    </tr>\n",
       "  </tbody>\n",
       "</table>\n",
       "</div>"
      ],
      "text/plain": [
       "  Energy Source  Energy Consumption (MwH)  Cost (Millions $)\n",
       "0         Solar                    1200.0              200.0\n",
       "1          Wind                       NaN              400.0\n",
       "2    Hydropower                    2900.0                NaN\n",
       "3    Gepthermal                       NaN              150.0\n",
       "4       Biomass                    2500.0              250.0\n",
       "5       Nuclear                    3200.0                NaN"
      ]
     },
     "execution_count": 60,
     "metadata": {},
     "output_type": "execute_result"
    }
   ],
   "source": [
    "energy_df=pd.DataFrame(data)\n",
    "energy_df"
   ]
  },
  {
   "cell_type": "code",
   "execution_count": 61,
   "id": "d0de1a41-8892-4639-a078-5613dabd0376",
   "metadata": {},
   "outputs": [
    {
     "data": {
      "text/plain": [
       "<bound method DataFrame.info of   Energy Source  Energy Consumption (MwH)  Cost (Millions $)\n",
       "0         Solar                    1200.0              200.0\n",
       "1          Wind                       NaN              400.0\n",
       "2    Hydropower                    2900.0                NaN\n",
       "3    Gepthermal                       NaN              150.0\n",
       "4       Biomass                    2500.0              250.0\n",
       "5       Nuclear                    3200.0                NaN>"
      ]
     },
     "execution_count": 61,
     "metadata": {},
     "output_type": "execute_result"
    }
   ],
   "source": [
    "energy_df.info"
   ]
  },
  {
   "cell_type": "code",
   "execution_count": 62,
   "id": "d02a883f-fcd9-47de-86b9-df52b9a53f3e",
   "metadata": {},
   "outputs": [
    {
     "name": "stdout",
     "output_type": "stream",
     "text": [
      "<class 'pandas.core.frame.DataFrame'>\n",
      "RangeIndex: 6 entries, 0 to 5\n",
      "Data columns (total 3 columns):\n",
      " #   Column                    Non-Null Count  Dtype  \n",
      "---  ------                    --------------  -----  \n",
      " 0   Energy Source             6 non-null      object \n",
      " 1   Energy Consumption (MwH)  4 non-null      float64\n",
      " 2   Cost (Millions $)         4 non-null      float64\n",
      "dtypes: float64(2), object(1)\n",
      "memory usage: 276.0+ bytes\n"
     ]
    }
   ],
   "source": [
    "energy_df.info()\n"
   ]
  },
  {
   "cell_type": "code",
   "execution_count": 63,
   "id": "fd243aac-0238-4090-8bc4-95f87cc625c1",
   "metadata": {},
   "outputs": [
    {
     "data": {
      "text/html": [
       "<div>\n",
       "<style scoped>\n",
       "    .dataframe tbody tr th:only-of-type {\n",
       "        vertical-align: middle;\n",
       "    }\n",
       "\n",
       "    .dataframe tbody tr th {\n",
       "        vertical-align: top;\n",
       "    }\n",
       "\n",
       "    .dataframe thead th {\n",
       "        text-align: right;\n",
       "    }\n",
       "</style>\n",
       "<table border=\"1\" class=\"dataframe\">\n",
       "  <thead>\n",
       "    <tr style=\"text-align: right;\">\n",
       "      <th></th>\n",
       "      <th>Energy Source</th>\n",
       "      <th>Energy Consumption (MwH)</th>\n",
       "      <th>Cost (Millions $)</th>\n",
       "    </tr>\n",
       "  </thead>\n",
       "  <tbody>\n",
       "    <tr>\n",
       "      <th>0</th>\n",
       "      <td>False</td>\n",
       "      <td>False</td>\n",
       "      <td>False</td>\n",
       "    </tr>\n",
       "    <tr>\n",
       "      <th>1</th>\n",
       "      <td>False</td>\n",
       "      <td>True</td>\n",
       "      <td>False</td>\n",
       "    </tr>\n",
       "    <tr>\n",
       "      <th>2</th>\n",
       "      <td>False</td>\n",
       "      <td>False</td>\n",
       "      <td>True</td>\n",
       "    </tr>\n",
       "    <tr>\n",
       "      <th>3</th>\n",
       "      <td>False</td>\n",
       "      <td>True</td>\n",
       "      <td>False</td>\n",
       "    </tr>\n",
       "    <tr>\n",
       "      <th>4</th>\n",
       "      <td>False</td>\n",
       "      <td>False</td>\n",
       "      <td>False</td>\n",
       "    </tr>\n",
       "    <tr>\n",
       "      <th>5</th>\n",
       "      <td>False</td>\n",
       "      <td>False</td>\n",
       "      <td>True</td>\n",
       "    </tr>\n",
       "  </tbody>\n",
       "</table>\n",
       "</div>"
      ],
      "text/plain": [
       "   Energy Source  Energy Consumption (MwH)  Cost (Millions $)\n",
       "0          False                     False              False\n",
       "1          False                      True              False\n",
       "2          False                     False               True\n",
       "3          False                      True              False\n",
       "4          False                     False              False\n",
       "5          False                     False               True"
      ]
     },
     "execution_count": 63,
     "metadata": {},
     "output_type": "execute_result"
    }
   ],
   "source": [
    "energy_df.isnull()"
   ]
  },
  {
   "cell_type": "code",
   "execution_count": 64,
   "id": "65dcfccf-3818-4c75-8242-1d7be1b5b1b4",
   "metadata": {},
   "outputs": [
    {
     "data": {
      "text/plain": [
       "<bound method DataFrame.isnull of   Energy Source  Energy Consumption (MwH)  Cost (Millions $)\n",
       "0         Solar                    1200.0              200.0\n",
       "1          Wind                       NaN              400.0\n",
       "2    Hydropower                    2900.0                NaN\n",
       "3    Gepthermal                       NaN              150.0\n",
       "4       Biomass                    2500.0              250.0\n",
       "5       Nuclear                    3200.0                NaN>"
      ]
     },
     "execution_count": 64,
     "metadata": {},
     "output_type": "execute_result"
    }
   ],
   "source": [
    "energy_df.isnull"
   ]
  },
  {
   "cell_type": "code",
   "execution_count": 65,
   "id": "ec9c9864-88a7-4dc0-a4d2-5e448360395d",
   "metadata": {},
   "outputs": [
    {
     "data": {
      "text/plain": [
       "Energy Source               0\n",
       "Energy Consumption (MwH)    2\n",
       "Cost (Millions $)           2\n",
       "dtype: int64"
      ]
     },
     "execution_count": 65,
     "metadata": {},
     "output_type": "execute_result"
    }
   ],
   "source": [
    "energy_df.isna().sum()"
   ]
  },
  {
   "cell_type": "code",
   "execution_count": 66,
   "id": "90d6e424-6f2a-4aef-9232-dd846865a94a",
   "metadata": {},
   "outputs": [
    {
     "data": {
      "text/plain": [
       "<bound method NDFrame.describe of   Energy Source  Energy Consumption (MwH)  Cost (Millions $)\n",
       "0         Solar                    1200.0              200.0\n",
       "1          Wind                       NaN              400.0\n",
       "2    Hydropower                    2900.0                NaN\n",
       "3    Gepthermal                       NaN              150.0\n",
       "4       Biomass                    2500.0              250.0\n",
       "5       Nuclear                    3200.0                NaN>"
      ]
     },
     "execution_count": 66,
     "metadata": {},
     "output_type": "execute_result"
    }
   ],
   "source": [
    "energy_df.describe"
   ]
  },
  {
   "cell_type": "code",
   "execution_count": 67,
   "id": "3ce1d94e-a435-4d60-9f66-44237e796c74",
   "metadata": {},
   "outputs": [
    {
     "data": {
      "text/html": [
       "<div>\n",
       "<style scoped>\n",
       "    .dataframe tbody tr th:only-of-type {\n",
       "        vertical-align: middle;\n",
       "    }\n",
       "\n",
       "    .dataframe tbody tr th {\n",
       "        vertical-align: top;\n",
       "    }\n",
       "\n",
       "    .dataframe thead th {\n",
       "        text-align: right;\n",
       "    }\n",
       "</style>\n",
       "<table border=\"1\" class=\"dataframe\">\n",
       "  <thead>\n",
       "    <tr style=\"text-align: right;\">\n",
       "      <th></th>\n",
       "      <th>Energy Consumption (MwH)</th>\n",
       "      <th>Cost (Millions $)</th>\n",
       "    </tr>\n",
       "  </thead>\n",
       "  <tbody>\n",
       "    <tr>\n",
       "      <th>count</th>\n",
       "      <td>4.000000</td>\n",
       "      <td>4.000000</td>\n",
       "    </tr>\n",
       "    <tr>\n",
       "      <th>mean</th>\n",
       "      <td>2450.000000</td>\n",
       "      <td>250.000000</td>\n",
       "    </tr>\n",
       "    <tr>\n",
       "      <th>std</th>\n",
       "      <td>881.286938</td>\n",
       "      <td>108.012345</td>\n",
       "    </tr>\n",
       "    <tr>\n",
       "      <th>min</th>\n",
       "      <td>1200.000000</td>\n",
       "      <td>150.000000</td>\n",
       "    </tr>\n",
       "    <tr>\n",
       "      <th>25%</th>\n",
       "      <td>2175.000000</td>\n",
       "      <td>187.500000</td>\n",
       "    </tr>\n",
       "    <tr>\n",
       "      <th>50%</th>\n",
       "      <td>2700.000000</td>\n",
       "      <td>225.000000</td>\n",
       "    </tr>\n",
       "    <tr>\n",
       "      <th>75%</th>\n",
       "      <td>2975.000000</td>\n",
       "      <td>287.500000</td>\n",
       "    </tr>\n",
       "    <tr>\n",
       "      <th>max</th>\n",
       "      <td>3200.000000</td>\n",
       "      <td>400.000000</td>\n",
       "    </tr>\n",
       "  </tbody>\n",
       "</table>\n",
       "</div>"
      ],
      "text/plain": [
       "       Energy Consumption (MwH)  Cost (Millions $)\n",
       "count                  4.000000           4.000000\n",
       "mean                2450.000000         250.000000\n",
       "std                  881.286938         108.012345\n",
       "min                 1200.000000         150.000000\n",
       "25%                 2175.000000         187.500000\n",
       "50%                 2700.000000         225.000000\n",
       "75%                 2975.000000         287.500000\n",
       "max                 3200.000000         400.000000"
      ]
     },
     "execution_count": 67,
     "metadata": {},
     "output_type": "execute_result"
    }
   ],
   "source": [
    "energy_df.describe()"
   ]
  },
  {
   "cell_type": "code",
   "execution_count": 68,
   "id": "1747f4e7-494a-429e-b8dc-efcf672a3cd1",
   "metadata": {},
   "outputs": [
    {
     "data": {
      "text/plain": [
       "<bound method DataFrame.mean of   Energy Source  Energy Consumption (MwH)  Cost (Millions $)\n",
       "0         Solar                    1200.0              200.0\n",
       "1          Wind                       NaN              400.0\n",
       "2    Hydropower                    2900.0                NaN\n",
       "3    Gepthermal                       NaN              150.0\n",
       "4       Biomass                    2500.0              250.0\n",
       "5       Nuclear                    3200.0                NaN>"
      ]
     },
     "execution_count": 68,
     "metadata": {},
     "output_type": "execute_result"
    }
   ],
   "source": [
    "energy_df.mean"
   ]
  },
  {
   "cell_type": "code",
   "execution_count": 69,
   "id": "c3d6d540-69c7-4144-b58a-98b3871c8c1b",
   "metadata": {},
   "outputs": [
    {
     "data": {
      "text/plain": [
       "<bound method DataFrame.median of   Energy Source  Energy Consumption (MwH)  Cost (Millions $)\n",
       "0         Solar                    1200.0              200.0\n",
       "1          Wind                       NaN              400.0\n",
       "2    Hydropower                    2900.0                NaN\n",
       "3    Gepthermal                       NaN              150.0\n",
       "4       Biomass                    2500.0              250.0\n",
       "5       Nuclear                    3200.0                NaN>"
      ]
     },
     "execution_count": 69,
     "metadata": {},
     "output_type": "execute_result"
    }
   ],
   "source": [
    "energy_df.median"
   ]
  },
  {
   "cell_type": "code",
   "execution_count": 70,
   "id": "6436438b-c0ac-4df6-93f5-ae34ba61e499",
   "metadata": {},
   "outputs": [
    {
     "data": {
      "text/plain": [
       "<bound method DataFrame.mode of   Energy Source  Energy Consumption (MwH)  Cost (Millions $)\n",
       "0         Solar                    1200.0              200.0\n",
       "1          Wind                       NaN              400.0\n",
       "2    Hydropower                    2900.0                NaN\n",
       "3    Gepthermal                       NaN              150.0\n",
       "4       Biomass                    2500.0              250.0\n",
       "5       Nuclear                    3200.0                NaN>"
      ]
     },
     "execution_count": 70,
     "metadata": {},
     "output_type": "execute_result"
    }
   ],
   "source": [
    "energy_df.mode"
   ]
  },
  {
   "cell_type": "code",
   "execution_count": 71,
   "id": "a010cfc1-1623-40b3-81e4-ad38b3a68ddc",
   "metadata": {},
   "outputs": [],
   "source": [
    "cleaned_df=energy_df.dropna()"
   ]
  },
  {
   "cell_type": "code",
   "execution_count": 72,
   "id": "6eacd87d-2716-42de-8649-3c6a36f38683",
   "metadata": {},
   "outputs": [
    {
     "data": {
      "text/html": [
       "<div>\n",
       "<style scoped>\n",
       "    .dataframe tbody tr th:only-of-type {\n",
       "        vertical-align: middle;\n",
       "    }\n",
       "\n",
       "    .dataframe tbody tr th {\n",
       "        vertical-align: top;\n",
       "    }\n",
       "\n",
       "    .dataframe thead th {\n",
       "        text-align: right;\n",
       "    }\n",
       "</style>\n",
       "<table border=\"1\" class=\"dataframe\">\n",
       "  <thead>\n",
       "    <tr style=\"text-align: right;\">\n",
       "      <th></th>\n",
       "      <th>Energy Source</th>\n",
       "      <th>Energy Consumption (MwH)</th>\n",
       "      <th>Cost (Millions $)</th>\n",
       "    </tr>\n",
       "  </thead>\n",
       "  <tbody>\n",
       "    <tr>\n",
       "      <th>0</th>\n",
       "      <td>Solar</td>\n",
       "      <td>1200.0</td>\n",
       "      <td>200.0</td>\n",
       "    </tr>\n",
       "    <tr>\n",
       "      <th>4</th>\n",
       "      <td>Biomass</td>\n",
       "      <td>2500.0</td>\n",
       "      <td>250.0</td>\n",
       "    </tr>\n",
       "  </tbody>\n",
       "</table>\n",
       "</div>"
      ],
      "text/plain": [
       "  Energy Source  Energy Consumption (MwH)  Cost (Millions $)\n",
       "0         Solar                    1200.0              200.0\n",
       "4       Biomass                    2500.0              250.0"
      ]
     },
     "execution_count": 72,
     "metadata": {},
     "output_type": "execute_result"
    }
   ],
   "source": [
    "cleaned_df"
   ]
  },
  {
   "cell_type": "code",
   "execution_count": 73,
   "id": "e644116b-c498-4b5c-b365-17e5b672fb46",
   "metadata": {},
   "outputs": [
    {
     "name": "stdout",
     "output_type": "stream",
     "text": [
      "Requirement already satisfied: seaborn in /opt/miniconda3/lib/python3.13/site-packages (0.13.2)\n",
      "Requirement already satisfied: numpy!=1.24.0,>=1.20 in /opt/miniconda3/lib/python3.13/site-packages (from seaborn) (2.3.2)\n",
      "Requirement already satisfied: pandas>=1.2 in /opt/miniconda3/lib/python3.13/site-packages (from seaborn) (2.3.1)\n",
      "Requirement already satisfied: matplotlib!=3.6.1,>=3.4 in /opt/miniconda3/lib/python3.13/site-packages (from seaborn) (3.10.3)\n",
      "Requirement already satisfied: contourpy>=1.0.1 in /opt/miniconda3/lib/python3.13/site-packages (from matplotlib!=3.6.1,>=3.4->seaborn) (1.3.3)\n",
      "Requirement already satisfied: cycler>=0.10 in /opt/miniconda3/lib/python3.13/site-packages (from matplotlib!=3.6.1,>=3.4->seaborn) (0.12.1)\n",
      "Requirement already satisfied: fonttools>=4.22.0 in /opt/miniconda3/lib/python3.13/site-packages (from matplotlib!=3.6.1,>=3.4->seaborn) (4.59.0)\n",
      "Requirement already satisfied: kiwisolver>=1.3.1 in /opt/miniconda3/lib/python3.13/site-packages (from matplotlib!=3.6.1,>=3.4->seaborn) (1.4.8)\n",
      "Requirement already satisfied: packaging>=20.0 in /opt/miniconda3/lib/python3.13/site-packages (from matplotlib!=3.6.1,>=3.4->seaborn) (24.2)\n",
      "Requirement already satisfied: pillow>=8 in /opt/miniconda3/lib/python3.13/site-packages (from matplotlib!=3.6.1,>=3.4->seaborn) (11.3.0)\n",
      "Requirement already satisfied: pyparsing>=2.3.1 in /opt/miniconda3/lib/python3.13/site-packages (from matplotlib!=3.6.1,>=3.4->seaborn) (3.2.3)\n",
      "Requirement already satisfied: python-dateutil>=2.7 in /opt/miniconda3/lib/python3.13/site-packages (from matplotlib!=3.6.1,>=3.4->seaborn) (2.9.0.post0)\n",
      "Requirement already satisfied: pytz>=2020.1 in /opt/miniconda3/lib/python3.13/site-packages (from pandas>=1.2->seaborn) (2025.2)\n",
      "Requirement already satisfied: tzdata>=2022.7 in /opt/miniconda3/lib/python3.13/site-packages (from pandas>=1.2->seaborn) (2025.2)\n",
      "Requirement already satisfied: six>=1.5 in /opt/miniconda3/lib/python3.13/site-packages (from python-dateutil>=2.7->matplotlib!=3.6.1,>=3.4->seaborn) (1.17.0)\n",
      "Note: you may need to restart the kernel to use updated packages.\n"
     ]
    }
   ],
   "source": [
    "pip install seaborn"
   ]
  },
  {
   "cell_type": "code",
   "execution_count": 74,
   "id": "7bd14112-88e3-473b-8b15-2c15fd221b39",
   "metadata": {},
   "outputs": [
    {
     "data": {
      "text/plain": [
       "<Axes: >"
      ]
     },
     "execution_count": 74,
     "metadata": {},
     "output_type": "execute_result"
    },
    {
     "data": {
      "image/png": "[encoded data removed]",
      "text/plain": [
       "<Figure size 640x480 with 1 Axes>"
      ]
     },
     "metadata": {},
     "output_type": "display_data"
    }
   ],
   "source": [
    "import seaborn as sns\n",
    "sns.boxplot(energy_df)"
   ]
  },
  {
   "cell_type": "code",
   "execution_count": 75,
   "id": "e7723b60-9b2d-4d19-83f4-049f6063e0bf",
   "metadata": {},
   "outputs": [
    {
     "data": {
      "text/plain": [
       "<Axes: >"
      ]
     },
     "execution_count": 75,
     "metadata": {},
     "output_type": "execute_result"
    },
    {
     "data": {
      "image/png": "[encoded data removed]",
      "text/plain": [
       "<Figure size 640x480 with 1 Axes>"
      ]
     },
     "metadata": {},
     "output_type": "display_data"
    }
   ],
   "source": [
    "sns.boxplot(cleaned_df)"
   ]
  },
  {
   "cell_type": "code",
   "execution_count": 76,
   "id": "369f6701-457f-4849-81a7-a842d69b24e4",
   "metadata": {},
   "outputs": [
    {
     "data": {
      "text/plain": [
       "Index(['Energy Source', 'Energy Consumption (MwH)', 'Cost (Millions $)'], dtype='object')"
      ]
     },
     "execution_count": 76,
     "metadata": {},
     "output_type": "execute_result"
    }
   ],
   "source": [
    "energy_df.columns"
   ]
  },
  {
   "cell_type": "code",
   "execution_count": 77,
   "id": "5f5cba4f-1f73-4f9a-9f33-98bf74d58497",
   "metadata": {},
   "outputs": [],
   "source": [
    "import warnings\n",
    "warnings.filterwarnings('ignore')"
   ]
  },
  {
   "cell_type": "code",
   "execution_count": 78,
   "id": "91c09373-8753-4fc0-9a01-2a26fd4e79a3",
   "metadata": {},
   "outputs": [],
   "source": [
    "energy_df['Energy Consumption (MwH)'].fillna(energy_df['Energy Consumption (MwH)'].mean(),inplace = True)"
   ]
  },
  {
   "cell_type": "code",
   "execution_count": 79,
   "id": "92ea118c-87cd-4fdf-8aca-605908e33711",
   "metadata": {},
   "outputs": [
    {
     "data": {
      "text/html": [
       "<div>\n",
       "<style scoped>\n",
       "    .dataframe tbody tr th:only-of-type {\n",
       "        vertical-align: middle;\n",
       "    }\n",
       "\n",
       "    .dataframe tbody tr th {\n",
       "        vertical-align: top;\n",
       "    }\n",
       "\n",
       "    .dataframe thead th {\n",
       "        text-align: right;\n",
       "    }\n",
       "</style>\n",
       "<table border=\"1\" class=\"dataframe\">\n",
       "  <thead>\n",
       "    <tr style=\"text-align: right;\">\n",
       "      <th></th>\n",
       "      <th>Energy Source</th>\n",
       "      <th>Energy Consumption (MwH)</th>\n",
       "      <th>Cost (Millions $)</th>\n",
       "    </tr>\n",
       "  </thead>\n",
       "  <tbody>\n",
       "    <tr>\n",
       "      <th>0</th>\n",
       "      <td>Solar</td>\n",
       "      <td>1200.0</td>\n",
       "      <td>200.0</td>\n",
       "    </tr>\n",
       "    <tr>\n",
       "      <th>1</th>\n",
       "      <td>Wind</td>\n",
       "      <td>2450.0</td>\n",
       "      <td>400.0</td>\n",
       "    </tr>\n",
       "    <tr>\n",
       "      <th>2</th>\n",
       "      <td>Hydropower</td>\n",
       "      <td>2900.0</td>\n",
       "      <td>NaN</td>\n",
       "    </tr>\n",
       "    <tr>\n",
       "      <th>3</th>\n",
       "      <td>Gepthermal</td>\n",
       "      <td>2450.0</td>\n",
       "      <td>150.0</td>\n",
       "    </tr>\n",
       "    <tr>\n",
       "      <th>4</th>\n",
       "      <td>Biomass</td>\n",
       "      <td>2500.0</td>\n",
       "      <td>250.0</td>\n",
       "    </tr>\n",
       "    <tr>\n",
       "      <th>5</th>\n",
       "      <td>Nuclear</td>\n",
       "      <td>3200.0</td>\n",
       "      <td>NaN</td>\n",
       "    </tr>\n",
       "  </tbody>\n",
       "</table>\n",
       "</div>"
      ],
      "text/plain": [
       "  Energy Source  Energy Consumption (MwH)  Cost (Millions $)\n",
       "0         Solar                    1200.0              200.0\n",
       "1          Wind                    2450.0              400.0\n",
       "2    Hydropower                    2900.0                NaN\n",
       "3    Gepthermal                    2450.0              150.0\n",
       "4       Biomass                    2500.0              250.0\n",
       "5       Nuclear                    3200.0                NaN"
      ]
     },
     "execution_count": 79,
     "metadata": {},
     "output_type": "execute_result"
    }
   ],
   "source": [
    "energy_df"
   ]
  },
  {
   "cell_type": "code",
   "execution_count": 80,
   "id": "1c70553f-d8c2-4b4b-af6c-f72ae8553621",
   "metadata": {},
   "outputs": [],
   "source": [
    "energy_df['Cost (Millions $)'].fillna(energy_df['Cost (Millions $)'].mean(),inplace = True)"
   ]
  },
  {
   "cell_type": "code",
   "execution_count": 81,
   "id": "0ade2462-0572-4e60-a644-f26915fae27f",
   "metadata": {},
   "outputs": [
    {
     "data": {
      "text/html": [
       "<div>\n",
       "<style scoped>\n",
       "    .dataframe tbody tr th:only-of-type {\n",
       "        vertical-align: middle;\n",
       "    }\n",
       "\n",
       "    .dataframe tbody tr th {\n",
       "        vertical-align: top;\n",
       "    }\n",
       "\n",
       "    .dataframe thead th {\n",
       "        text-align: right;\n",
       "    }\n",
       "</style>\n",
       "<table border=\"1\" class=\"dataframe\">\n",
       "  <thead>\n",
       "    <tr style=\"text-align: right;\">\n",
       "      <th></th>\n",
       "      <th>Energy Source</th>\n",
       "      <th>Energy Consumption (MwH)</th>\n",
       "      <th>Cost (Millions $)</th>\n",
       "    </tr>\n",
       "  </thead>\n",
       "  <tbody>\n",
       "    <tr>\n",
       "      <th>0</th>\n",
       "      <td>Solar</td>\n",
       "      <td>1200.0</td>\n",
       "      <td>200.0</td>\n",
       "    </tr>\n",
       "    <tr>\n",
       "      <th>1</th>\n",
       "      <td>Wind</td>\n",
       "      <td>2450.0</td>\n",
       "      <td>400.0</td>\n",
       "    </tr>\n",
       "    <tr>\n",
       "      <th>2</th>\n",
       "      <td>Hydropower</td>\n",
       "      <td>2900.0</td>\n",
       "      <td>250.0</td>\n",
       "    </tr>\n",
       "    <tr>\n",
       "      <th>3</th>\n",
       "      <td>Gepthermal</td>\n",
       "      <td>2450.0</td>\n",
       "      <td>150.0</td>\n",
       "    </tr>\n",
       "    <tr>\n",
       "      <th>4</th>\n",
       "      <td>Biomass</td>\n",
       "      <td>2500.0</td>\n",
       "      <td>250.0</td>\n",
       "    </tr>\n",
       "    <tr>\n",
       "      <th>5</th>\n",
       "      <td>Nuclear</td>\n",
       "      <td>3200.0</td>\n",
       "      <td>250.0</td>\n",
       "    </tr>\n",
       "  </tbody>\n",
       "</table>\n",
       "</div>"
      ],
      "text/plain": [
       "  Energy Source  Energy Consumption (MwH)  Cost (Millions $)\n",
       "0         Solar                    1200.0              200.0\n",
       "1          Wind                    2450.0              400.0\n",
       "2    Hydropower                    2900.0              250.0\n",
       "3    Gepthermal                    2450.0              150.0\n",
       "4       Biomass                    2500.0              250.0\n",
       "5       Nuclear                    3200.0              250.0"
      ]
     },
     "execution_count": 81,
     "metadata": {},
     "output_type": "execute_result"
    }
   ],
   "source": [
    "energy_df"
   ]
  },
  {
   "cell_type": "code",
   "execution_count": 82,
   "id": "3c0bcf2d-a742-40ba-a56a-5a6743d8b71e",
   "metadata": {},
   "outputs": [
    {
     "data": {
      "text/plain": [
       "Energy Source               0\n",
       "Energy Consumption (MwH)    0\n",
       "Cost (Millions $)           0\n",
       "dtype: int64"
      ]
     },
     "execution_count": 82,
     "metadata": {},
     "output_type": "execute_result"
    }
   ],
   "source": [
    "energy_df.isnull().sum()"
   ]
  },
  {
   "cell_type": "code",
   "execution_count": 88,
   "id": "db56ee35-0890-497c-bf94-0c935bad0a03",
   "metadata": {},
   "outputs": [
    {
     "name": "stdout",
     "output_type": "stream",
     "text": [
      "Collecting scikit-learn\n",
      "  Downloading scikit_learn-1.7.1-cp313-cp313-macosx_12_0_arm64.whl.metadata (11 kB)\n",
      "Requirement already satisfied: numpy>=1.22.0 in /opt/miniconda3/lib/python3.13/site-packages (from scikit-learn) (2.3.2)\n",
      "Collecting scipy>=1.8.0 (from scikit-learn)\n",
      "  Downloading scipy-1.16.1-cp313-cp313-macosx_14_0_arm64.whl.metadata (61 kB)\n",
      "Collecting joblib>=1.2.0 (from scikit-learn)\n",
      "  Using cached joblib-1.5.1-py3-none-any.whl.metadata (5.6 kB)\n",
      "Collecting threadpoolctl>=3.1.0 (from scikit-learn)\n",
      "  Using cached threadpoolctl-3.6.0-py3-none-any.whl.metadata (13 kB)\n",
      "Downloading scikit_learn-1.7.1-cp313-cp313-macosx_12_0_arm64.whl (8.6 MB)\n",
      "\u001b[2K   \u001b[90m━━━━━━━━━━━━━━━━━━━━━━━━━━━━━━━━━━━━━━━━\u001b[0m \u001b[32m8.6/8.6 MB\u001b[0m \u001b[31m10.6 MB/s\u001b[0m eta \u001b[36m0:00:00\u001b[0m00:01\u001b[0m00:01\u001b[0m\n",
      "\u001b[?25hUsing cached joblib-1.5.1-py3-none-any.whl (307 kB)\n",
      "Downloading scipy-1.16.1-cp313-cp313-macosx_14_0_arm64.whl (20.8 MB)\n",
      "\u001b[2K   \u001b[90m━━━━━━━━━━━━━━━━━━━━━━━━━━━━━━━━━━━━━━━━\u001b[0m \u001b[32m20.8/20.8 MB\u001b[0m \u001b[31m12.8 MB/s\u001b[0m eta \u001b[36m0:00:00\u001b[0m00:01\u001b[0m00:01\u001b[0m\n",
      "\u001b[?25hUsing cached threadpoolctl-3.6.0-py3-none-any.whl (18 kB)\n",
      "Installing collected packages: threadpoolctl, scipy, joblib, scikit-learn\n",
      "\u001b[2K   \u001b[90m━━━━━━━━━━━━━━━━━━━━━━━━━━━━━━━━━━━━━━━━\u001b[0m \u001b[32m4/4\u001b[0m [scikit-learn][0m [scikit-learn]\n",
      "\u001b[1A\u001b[2KSuccessfully installed joblib-1.5.1 scikit-learn-1.7.1 scipy-1.16.1 threadpoolctl-3.6.0\n"
     ]
    }
   ],
   "source": [
    "!pip install scikit-learn\n"
   ]
  },
  {
   "cell_type": "code",
   "execution_count": 95,
   "id": "5610956f-07ac-4af3-b6df-1a766adabbdb",
   "metadata": {},
   "outputs": [],
   "source": [
    "from sklearn.preprocessing import MinMaxScaler\n",
    "\n"
   ]
  },
  {
   "cell_type": "code",
   "execution_count": 97,
   "id": "0009a99a-d6ec-4356-a331-381b68298a4f",
   "metadata": {},
   "outputs": [],
   "source": [
    "scaler = MinMaxScaler()\n",
    "energy_df[['Energy Consumption (MwH)','Cost (Millions $)']]=scaler.fit_transform"
   ]
  },
  {
   "cell_type": "code",
   "execution_count": 103,
   "id": "d3ff0b16-564c-48e4-9482-a659e1a34358",
   "metadata": {},
   "outputs": [
    {
     "data": {
      "text/plain": [
       "Index(['Energy Source', 'Energy Consumption (MwH)', 'Cost (Millions $)'], dtype='object')"
      ]
     },
     "execution_count": 103,
     "metadata": {},
     "output_type": "execute_result"
    }
   ],
   "source": [
    "energy_df.columns"
   ]
  },
  {
   "cell_type": "code",
   "execution_count": 104,
   "id": "618615a1-ab6f-4dd4-9898-b360d41e651c",
   "metadata": {},
   "outputs": [],
   "source": [
    "scaler = MinMaxScaler()\n",
    "energy_df[['Energy Consumption (MwH)','Cost (Millions $)']]=scaler.fit_transform"
   ]
  },
  {
   "cell_type": "code",
   "execution_count": 105,
   "id": "1e2b7b2d-f4f6-4ccd-8a4b-1e0e15ee6eee",
   "metadata": {},
   "outputs": [
    {
     "data": {
      "text/html": [
       "<div>\n",
       "<style scoped>\n",
       "    .dataframe tbody tr th:only-of-type {\n",
       "        vertical-align: middle;\n",
       "    }\n",
       "\n",
       "    .dataframe tbody tr th {\n",
       "        vertical-align: top;\n",
       "    }\n",
       "\n",
       "    .dataframe thead th {\n",
       "        text-align: right;\n",
       "    }\n",
       "</style>\n",
       "<table border=\"1\" class=\"dataframe\">\n",
       "  <thead>\n",
       "    <tr style=\"text-align: right;\">\n",
       "      <th></th>\n",
       "      <th>Energy Source</th>\n",
       "      <th>Energy Consumption (MwH)</th>\n",
       "      <th>Cost (Millions $)</th>\n",
       "    </tr>\n",
       "  </thead>\n",
       "  <tbody>\n",
       "    <tr>\n",
       "      <th>0</th>\n",
       "      <td>Solar</td>\n",
       "      <td>&lt;bound method TransformerMixin.fit_transform o...</td>\n",
       "      <td>&lt;bound method TransformerMixin.fit_transform o...</td>\n",
       "    </tr>\n",
       "    <tr>\n",
       "      <th>1</th>\n",
       "      <td>Wind</td>\n",
       "      <td>&lt;bound method TransformerMixin.fit_transform o...</td>\n",
       "      <td>&lt;bound method TransformerMixin.fit_transform o...</td>\n",
       "    </tr>\n",
       "    <tr>\n",
       "      <th>2</th>\n",
       "      <td>Hydropower</td>\n",
       "      <td>&lt;bound method TransformerMixin.fit_transform o...</td>\n",
       "      <td>&lt;bound method TransformerMixin.fit_transform o...</td>\n",
       "    </tr>\n",
       "    <tr>\n",
       "      <th>3</th>\n",
       "      <td>Gepthermal</td>\n",
       "      <td>&lt;bound method TransformerMixin.fit_transform o...</td>\n",
       "      <td>&lt;bound method TransformerMixin.fit_transform o...</td>\n",
       "    </tr>\n",
       "    <tr>\n",
       "      <th>4</th>\n",
       "      <td>Biomass</td>\n",
       "      <td>&lt;bound method TransformerMixin.fit_transform o...</td>\n",
       "      <td>&lt;bound method TransformerMixin.fit_transform o...</td>\n",
       "    </tr>\n",
       "    <tr>\n",
       "      <th>5</th>\n",
       "      <td>Nuclear</td>\n",
       "      <td>&lt;bound method TransformerMixin.fit_transform o...</td>\n",
       "      <td>&lt;bound method TransformerMixin.fit_transform o...</td>\n",
       "    </tr>\n",
       "  </tbody>\n",
       "</table>\n",
       "</div>"
      ],
      "text/plain": [
       "  Energy Source                           Energy Consumption (MwH)  \\\n",
       "0         Solar  <bound method TransformerMixin.fit_transform o...   \n",
       "1          Wind  <bound method TransformerMixin.fit_transform o...   \n",
       "2    Hydropower  <bound method TransformerMixin.fit_transform o...   \n",
       "3    Gepthermal  <bound method TransformerMixin.fit_transform o...   \n",
       "4       Biomass  <bound method TransformerMixin.fit_transform o...   \n",
       "5       Nuclear  <bound method TransformerMixin.fit_transform o...   \n",
       "\n",
       "                                   Cost (Millions $)  \n",
       "0  <bound method TransformerMixin.fit_transform o...  \n",
       "1  <bound method TransformerMixin.fit_transform o...  \n",
       "2  <bound method TransformerMixin.fit_transform o...  \n",
       "3  <bound method TransformerMixin.fit_transform o...  \n",
       "4  <bound method TransformerMixin.fit_transform o...  \n",
       "5  <bound method TransformerMixin.fit_transform o...  "
      ]
     },
     "execution_count": 105,
     "metadata": {},
     "output_type": "execute_result"
    }
   ],
   "source": [
    "energy_df"
   ]
  },
  {
   "cell_type": "code",
   "execution_count": null,
   "id": "ad788af7-a38c-4855-bea7-4546d3d4b3fd",
   "metadata": {},
   "outputs": [],
   "source": []
  }
 ],
 "metadata": {
  "kernelspec": {
   "display_name": "Python 3 (ipykernel)",
   "language": "python",
   "name": "python3"
  },
  "language_info": {
   "codemirror_mode": {
    "name": "ipython",
    "version": 3
   },
   "file_extension": ".py",
   "mimetype": "text/x-python",
   "name": "python",
   "nbconvert_exporter": "python",
   "pygments_lexer": "ipython3",
   "version": "3.13.5"
  }
 },
 "nbformat": 4,
 "nbformat_minor": 5
}
